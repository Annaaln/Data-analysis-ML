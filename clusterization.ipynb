{
 "cells": [
  {
   "cell_type": "code",
   "execution_count": null,
   "id": "e227f5f2-a73a-42cb-84c3-ab8e1d5f422b",
   "metadata": {},
   "outputs": [],
   "source": [
    "from sklearn.preprocessing import StandardScaler\n",
    "from sklearn.model_selection import train_test_split\n",
    "from statsmodels.stats.outliers_influence import variance_inflation_factor \n",
    "from sklearn.manifold import TSNE\n",
    "from sklearn.utils import shuffle\n",
    "from sklearn.decomposition import PCA, KernelPCA\n",
    "from sklearn.cluster import KMeans\n",
    "from sklearn.feature_selection import SelectKBest, chi2\n",
    "from sklearn import preprocessing\n",
    "import pandas as pd\n",
    "import numpy as np\n",
    "import io\n",
    "import matplotlib.pyplot as plt\n",
    "import seaborn as sns"
   ]
  },
  {
   "cell_type": "code",
   "execution_count": null,
   "id": "517a06e0-c562-4937-9faf-2741c7ccdcf9",
   "metadata": {},
   "outputs": [],
   "source": [
    "data = pd.read_csv('C:\\\\Users\\\\ASUS\\\\Downloads\\\\archive (2)\\\\creditcard.csv')"
   ]
  },
  {
   "cell_type": "code",
   "execution_count": null,
   "id": "d35aedd4-eef4-455e-afdf-02b6b825e7bb",
   "metadata": {},
   "outputs": [],
   "source": [
    "#1. There are 284,807 objects and 31 features in the dataset\n",
    "# It contains only numeric input variables that are the result of the PCA transformation. \n",
    "#Unfortunately, due to privacy concerns, we are unable to provide the original functions and additional background information about the data. \n",
    "#Features V1, V2, ...V28 are the main components obtained with PCA\n",
    "#'Time' contains the seconds that have elapsed between each transaction and the first transaction in the dataset. \n",
    "#'Amount' is the transaction amount, this function can be used, for example, for cost-sensitive training. \n",
    "#'Class' is a response variable and takes the value 1 in case of fraud and 0 otherwise.\n",
    "#2-3. There are no categorical signs\n",
    "#4. There is one binary feature. Column Class\n",
    "#5. The remaining 30 columns are numeric attributes\n",
    "#6. There are no gaps in the data"
   ]
  },
  {
   "cell_type": "code",
   "execution_count": null,
   "id": "71d05843-2d49-471e-a2cf-c6b18931e3e4",
   "metadata": {},
   "outputs": [],
   "source": [
    "#outliers and abnormal values\n",
    "lower_bound = data.V1.quantile(q=0.025)\n",
    "upper_bound = data.V1.quantile(q=0.975)\n",
    "data[(data.V1<lower_bound) | (data.V1>upper_bound)]"
   ]
  },
  {
   "cell_type": "code",
   "execution_count": null,
   "id": "33f3b86c-3b73-4a48-94c6-b4d51327aacc",
   "metadata": {},
   "outputs": [],
   "source": [
    "data.V1.plot(kind='hist', density=1, bins=20, stacked=False, alpha=.5, color='grey')"
   ]
  },
  {
   "cell_type": "code",
   "execution_count": null,
   "id": "9c20b022-73c9-4160-818c-3fe45c6026ff",
   "metadata": {},
   "outputs": [],
   "source": [
    "_, bp = data.V1.plot.box(return_type='both')"
   ]
  },
  {
   "cell_type": "code",
   "execution_count": null,
   "id": "f1bff4f4-adf6-4897-b984-83fc69a942ed",
   "metadata": {},
   "outputs": [],
   "source": [
    "#10-11. the column with the maximum average value after normalization of features through the standard deviation\n",
    "#the same applies to a data set without a binary attribute (the remaining attributes are numeric)"
   ]
  },
  {
   "cell_type": "code",
   "execution_count": null,
   "id": "bf3ee0d0-3185-4f89-9c73-e4df6697a203",
   "metadata": {},
   "outputs": [],
   "source": [
    "scaler = StandardScaler()"
   ]
  },
  {
   "cell_type": "code",
   "execution_count": null,
   "id": "e110e4ee-0fed-4a31-bb90-a2adbbf46424",
   "metadata": {},
   "outputs": [],
   "source": [
    "scaler.fit(data)\n",
    "transform = scaler.transform(data)\n",
    "transform"
   ]
  },
  {
   "cell_type": "code",
   "execution_count": null,
   "id": "b58152a9-53fe-4a80-856a-481574fad231",
   "metadata": {},
   "outputs": [],
   "source": [
    "#the data set without a column with a binary attribute"
   ]
  },
  {
   "cell_type": "code",
   "execution_count": null,
   "id": "6e58abb5-f53a-4804-9ac1-9a411e3161d1",
   "metadata": {},
   "outputs": [],
   "source": [
    "data_new = data.drop('Class', axis = 1)\n",
    "scaler.fit(data_new)\n",
    "transform = scaler.transform(data_new)\n",
    "transform"
   ]
  },
  {
   "cell_type": "code",
   "execution_count": null,
   "id": "d05a1f18-4b11-4d83-8894-061a326d49c7",
   "metadata": {},
   "outputs": [],
   "source": [
    "transform[:, 0].mean()"
   ]
  },
  {
   "cell_type": "code",
   "execution_count": null,
   "id": "7fdcefde-762c-44dd-8529-f7be280e2f67",
   "metadata": {},
   "outputs": [],
   "source": [
    "data_scaled = pd.DataFrame(data=transform)\n",
    "data_scaled.mean()"
   ]
  },
  {
   "cell_type": "code",
   "execution_count": null,
   "id": "9a7b9db4-9024-40ad-9447-e5ef7a28aa1a",
   "metadata": {},
   "outputs": [],
   "source": [
    "#The column with the maximum average value\n",
    "max(data_scaled.mean())"
   ]
  },
  {
   "cell_type": "code",
   "execution_count": null,
   "id": "c0410184-e784-4d04-b5b3-91bb4f85f0d6",
   "metadata": {},
   "outputs": [],
   "source": [
    "vif_ = pd.DataFrame()\n",
    "vif_['column_name'] = X_train.columns\n",
    "vif_['VIF'] = [variance_inflation_factor(X_train.values, i) for i in range(X_train.shape[1])]"
   ]
  },
  {
   "cell_type": "code",
   "execution_count": null,
   "id": "d4fd9ce0-db9f-4abc-b97a-653f65ac073d",
   "metadata": {},
   "outputs": [],
   "source": [
    "vif_.loc[vif_['VIF']>=2]"
   ]
  },
  {
   "cell_type": "code",
   "execution_count": null,
   "id": "e965e7eb-3035-48e8-a775-3d17c05ff8f7",
   "metadata": {},
   "outputs": [],
   "source": [
    "#How many features are sufficient to explain 90% of the variance after applying the PCA method?"
   ]
  },
  {
   "cell_type": "code",
   "execution_count": null,
   "id": "2a78b995-48b9-4c0e-a175-c0ca6d36e752",
   "metadata": {},
   "outputs": [],
   "source": [
    "stand_X = pd.DataFrame(preprocessing.scale(X_train), columns = X_train.columns)"
   ]
  },
  {
   "cell_type": "code",
   "execution_count": null,
   "id": "9dd1e32b-71d7-44f7-b865-a4dde27a9afb",
   "metadata": {},
   "outputs": [],
   "source": [
    "pca = PCA(0.9)\n",
    "pca.fit(stand_X)\n",
    "print(pca.n_components_)\n",
    "print(sum(pca.explained_variance_ratio_))"
   ]
  },
  {
   "cell_type": "code",
   "execution_count": null,
   "id": "0a43b79a-4d06-431c-926c-70f7dec03752",
   "metadata": {},
   "outputs": [],
   "source": [
    "#26 features are sufficient to explain 90% of the variance after applying the PCA method"
   ]
  },
  {
   "cell_type": "code",
   "execution_count": null,
   "id": "a6a0ae52-5924-406c-80c5-42218e32b029",
   "metadata": {},
   "outputs": [],
   "source": [
    "lst = []\n",
    "for i in range(1, 31):\n",
    " pca = PCA(n_components=i)\n",
    " pca.fit(stand_X)\n",
    " lst.append(sum(pca.explained_variance_ratio_))"
   ]
  },
  {
   "cell_type": "code",
   "execution_count": null,
   "id": "e4480b0e-0d01-4fcd-bd34-fac58d5c647e",
   "metadata": {},
   "outputs": [],
   "source": [
    "plt.plot(lst)\n",
    "plt.show()"
   ]
  },
  {
   "cell_type": "code",
   "execution_count": null,
   "id": "828bc821-7c53-4227-9abe-e5f630c68300",
   "metadata": {},
   "outputs": [],
   "source": [
    "pca = PCA(n_components = 26)\n",
    "x = pca.fit(stand_X)"
   ]
  },
  {
   "cell_type": "code",
   "execution_count": null,
   "id": "50817ad0-b55f-4b34-8c6a-164618c3bc3e",
   "metadata": {},
   "outputs": [],
   "source": [
    "#find the attribute that makes the greatest contribution to the first component"
   ]
  },
  {
   "cell_type": "code",
   "execution_count": null,
   "id": "bc315ee1-197c-4087-9662-316133024737",
   "metadata": {},
   "outputs": [],
   "source": [
    "f = pca.components_[0]\n",
    "max_ = 0\n",
    "tmp = f[max_]\n",
    "for i in range(0, len(f)):\n",
    "    if abs(f[i])>abs(tmp):\n",
    "        tmp = f[i]\n",
    "        max_ = i\n",
    "print(max_, tmp)"
   ]
  },
  {
   "cell_type": "code",
   "execution_count": null,
   "id": "2c43311b-f811-4631-a6d3-759bdfde678f",
   "metadata": {},
   "outputs": [],
   "source": [
    "#build two-dimensional representation of data using the t-SNE algorithm."
   ]
  },
  {
   "cell_type": "code",
   "execution_count": null,
   "id": "edb030fe-9e57-411b-9ae8-06ae10cd0221",
   "metadata": {},
   "outputs": [],
   "source": [
    "t = pca.transform(stand_X.iloc[:5000, :])"
   ]
  },
  {
   "cell_type": "code",
   "execution_count": null,
   "id": "d746d7b1-5ae1-441f-92d3-b4912091e146",
   "metadata": {},
   "outputs": [],
   "source": [
    "tsne = TSNE(n_components = 2, random_state = 0)"
   ]
  },
  {
   "cell_type": "code",
   "execution_count": null,
   "id": "2e5b7ce5-8d8f-4134-a9f6-b976ffe5a172",
   "metadata": {},
   "outputs": [],
   "source": [
    "tsne_ = tsne.fit_transform(t)"
   ]
  },
  {
   "cell_type": "code",
   "execution_count": null,
   "id": "fa2b14bc-6395-4c3e-b4de-3c67607d3e1c",
   "metadata": {},
   "outputs": [],
   "source": [
    "data_res = pd.DataFrame({'X' : tsne_[:, 0], 'Y' : tsne_[:, 1], 'Real' : y_train[:5000]})"
   ]
  },
  {
   "cell_type": "code",
   "execution_count": null,
   "id": "8dd4ebb9-b2ba-40e3-8dbe-c96b917cb23c",
   "metadata": {},
   "outputs": [],
   "source": [
    "sns.scatterplot(x = 'X', y = 'Y', data = data_res)"
   ]
  }
 ],
 "metadata": {
  "kernelspec": {
   "display_name": "Python [conda env:base] *",
   "language": "python",
   "name": "conda-base-py"
  },
  "language_info": {
   "codemirror_mode": {
    "name": "ipython",
    "version": 3
   },
   "file_extension": ".py",
   "mimetype": "text/x-python",
   "name": "python",
   "nbconvert_exporter": "python",
   "pygments_lexer": "ipython3",
   "version": "3.12.7"
  }
 },
 "nbformat": 4,
 "nbformat_minor": 5
}
