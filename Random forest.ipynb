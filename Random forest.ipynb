{
 "cells": [
  {
   "cell_type": "code",
   "execution_count": 1,
   "id": "c8a83454-b902-4cf4-8fd6-3d19221fa970",
   "metadata": {},
   "outputs": [],
   "source": [
    "import pandas as pd\n",
    "import numpy as np\n",
    "import io\n",
    "from sklearn.model_selection import GridSearchCV\n",
    "from sklearn.svm import SVC\n",
    "from sklearn.linear_model import LogisticRegression\n",
    "from sklearn.model_selection import train_test_split\n",
    "from sklearn.model_selection import StratifiedKFold\n",
    "from sklearn.model_selection import cross_val_score\n",
    "from sklearn.model_selection import StratifiedShuffleSplit\n",
    "from sklearn.preprocessing import StandardScaler\n",
    "from sklearn.ensemble import GradientBoostingClassifier\n",
    "from sklearn.linear_model import SGDClassifier\n",
    "from sklearn import datasets\n",
    "import warnings\n",
    "from sklearn.ensemble import RandomForestClassifier \n",
    "warnings.filterwarnings('ignore')"
   ]
  },
  {
   "cell_type": "code",
   "execution_count": null,
   "id": "24aae316-26a6-41ed-b842-dfc4a8a385e4",
   "metadata": {},
   "outputs": [],
   "source": [
    "data = pd.read_csv('C:\\\\Users\\\\ASUS\\\\Downloads\\\\archive (1)\\\\StudentsPerformance.csv')\n",
    "data = data.dropna()\n",
    "X = data.drop('writing score', axis = 1)\n",
    "data['writing score'] = np.where(data['writing score']>data['writing score'].mean(), 0, 1)\n",
    "Y = data['writing score']\n",
    "X['gender'] = np.where(X['gender'] == 'male', 0, 1)\n",
    "X['test preparation course'] = np.where(X['test preparation course'] == 'none', 0, 1)\n",
    "X['lunch'] = np.where(X['lunch'] == 'standart', 0, 1)\n",
    "X['race/ethnicity'] = np.where(X['race/ethnicity'] == 'group A', 0, (np.where(X['race/ethnicity'] == 'group B', 1, \n",
    "                                                                                  (np.where(X['race/ethnicity'] == 'group C', 2, \n",
    "                                                                                  (np.where(X['race/ethnicity'] == 'group D', 3, 4)))))))\n",
    "X['parental level of education'] = np.where(X['parental level of education'] == \"bachelor's degree\", \n",
    "                                                   0, (np.where(X['parental level of education'] == 'some college', 1, \n",
    "                                                    (np.where(X['parental level of education'] == \"associate's degree\", 2, \n",
    "                                                    (np.where(X['parental level of education'] == \"master's degree\", 3, \n",
    "                                                    (np.where(X['parental level of education'] == 'high school', 4, 5)))))))))"
   ]
  },
  {
   "cell_type": "code",
   "execution_count": null,
   "id": "961e3778-0a5c-4d0b-9cea-11263711a90e",
   "metadata": {},
   "outputs": [],
   "source": [
    "#divide the data into training and test samples\n",
    "X_train, X_test, y_train, y_test = train_test_split(X, Y, test_size=0.3)"
   ]
  },
  {
   "cell_type": "code",
   "execution_count": null,
   "id": "e2eb346d-1d75-4a4b-8890-06f7c1140d20",
   "metadata": {},
   "outputs": [],
   "source": [
    "#classifier\n",
    "clf = SVC()\n",
    "clf.fit(X_train, y_train)\n",
    "y_pred = clf.predict(X_test)\n",
    "clf.score(X_test, y_test)"
   ]
  },
  {
   "cell_type": "code",
   "execution_count": null,
   "id": "b2698ac1-33e0-4d8b-ad23-60ff427eac43",
   "metadata": {},
   "outputs": [],
   "source": [
    "print(\"f1:\"+str(np.average(cross_val_score(clf, X_test, y_test, scoring='f1'))))\n",
    "print(\"accuracy:\"+str(np.average(cross_val_score(clf, X_test, y_test, scoring='accuracy'))))\n",
    "print(\"precision:\"+str(np.average(cross_val_score(clf, X_test, y_test, scoring='precision'))))\n",
    "print(\"recall:\"+str(np.average(cross_val_score(clf, X_test, y_test, scoring='recall'))))"
   ]
  },
  {
   "cell_type": "code",
   "execution_count": null,
   "id": "d0f52093-d0b8-420d-bb8d-1bb9ea9a1aa0",
   "metadata": {},
   "outputs": [],
   "source": [
    "#random forest\n",
    "param_grid = { 'n_estimators': [50, 100, 150, 200, 250, 300, 350, 400, 450, 500],'max_features': ['sqrt', 'log2'],'max_depth' : list(range(1, 10)), 'criterion' :['gini']}\n",
    "RFC = GridSearchCV(estimator=RandomForestClassifier(), param_grid=param_grid, cv= 5, refit = True) \n",
    "RFC.fit(X_train, y_train)\n",
    "\n",
    "RFC.best_estimator_"
   ]
  },
  {
   "cell_type": "code",
   "execution_count": null,
   "id": "caad8183-bf28-4501-8b84-2de31bfc0c4a",
   "metadata": {},
   "outputs": [],
   "source": [
    "print(\"f1:\"+str(np.average(cross_val_score(RFC.best_estimator_, X_test, y_test, scoring='f1'))))\n",
    "print(\"accuracy:\"+str(np.average(cross_val_score(RFC.best_estimator_, X_test, y_test, scoring='accuracy'))))\n",
    "print(\"precision:\"+str(np.average(cross_val_score(RFC.best_estimator_, X_test, y_test, scoring='precision'))))\n",
    "print(\"recall:\"+str(np.average(cross_val_score(RFC.best_estimator_, X_test, y_test, scoring='recall'))))"
   ]
  }
 ],
 "metadata": {
  "kernelspec": {
   "display_name": "Python [conda env:base] *",
   "language": "python",
   "name": "conda-base-py"
  },
  "language_info": {
   "codemirror_mode": {
    "name": "ipython",
    "version": 3
   },
   "file_extension": ".py",
   "mimetype": "text/x-python",
   "name": "python",
   "nbconvert_exporter": "python",
   "pygments_lexer": "ipython3",
   "version": "3.12.7"
  }
 },
 "nbformat": 4,
 "nbformat_minor": 5
}
